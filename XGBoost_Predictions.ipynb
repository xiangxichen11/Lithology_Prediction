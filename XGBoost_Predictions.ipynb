{
 "cells": [
  {
   "cell_type": "code",
   "execution_count": 15,
   "id": "f14bcbac",
   "metadata": {},
   "outputs": [],
   "source": [
    "#imports\n",
    "import numpy as np\n",
    "import pandas as pd\n",
    "import lasio \n",
    "from las_py import Laspy\n",
    "import matplotlib.pyplot as plt\n",
    "from sklearn.neighbors import KNeighborsClassifier as KNN\n",
    "from sklearn.preprocessing import StandardScaler\n",
    "from sklearn.pipeline import make_pipeline\n",
    "from sklearn.model_selection import StratifiedKFold, cross_val_score\n",
    "from sklearn.pipeline import make_pipeline\n",
    "from matplotlib.colors import ListedColormap\n",
    "from xgboost import XGBClassifier\n",
    "from sklearn.model_selection import train_test_split\n",
    "from sklearn.metrics import accuracy_score"
   ]
  },
  {
   "cell_type": "code",
   "execution_count": 5,
   "id": "21165455",
   "metadata": {},
   "outputs": [
    {
     "name": "stdout",
     "output_type": "stream",
     "text": [
      "['DEPTH', 'GR', 'NPHI', 'PE', 'DEN', 'LITHOLOGY FACIES_XUEPING', 'AC']\n"
     ]
    }
   ],
   "source": [
    "las = lasio.read(\"./data/100163203803W400_LOG.las\")\n",
    "mnemonic = las.keys()\n",
    "print(mnemonic)"
   ]
  },
  {
   "cell_type": "code",
   "execution_count": 9,
   "id": "b3451256",
   "metadata": {},
   "outputs": [
    {
     "data": {
      "text/html": [
       "<div>\n",
       "<style scoped>\n",
       "    .dataframe tbody tr th:only-of-type {\n",
       "        vertical-align: middle;\n",
       "    }\n",
       "\n",
       "    .dataframe tbody tr th {\n",
       "        vertical-align: top;\n",
       "    }\n",
       "\n",
       "    .dataframe thead th {\n",
       "        text-align: right;\n",
       "    }\n",
       "</style>\n",
       "<table border=\"1\" class=\"dataframe\">\n",
       "  <thead>\n",
       "    <tr style=\"text-align: right;\">\n",
       "      <th></th>\n",
       "      <th>DEPTH</th>\n",
       "      <th>GR</th>\n",
       "      <th>NPHI</th>\n",
       "      <th>PE</th>\n",
       "      <th>DEN</th>\n",
       "      <th>LITHOLOGY</th>\n",
       "      <th>AC</th>\n",
       "    </tr>\n",
       "  </thead>\n",
       "  <tbody>\n",
       "    <tr>\n",
       "      <th>0</th>\n",
       "      <td>770.80</td>\n",
       "      <td>68.87</td>\n",
       "      <td>0.430</td>\n",
       "      <td>0.99</td>\n",
       "      <td>1.916</td>\n",
       "      <td>7.0</td>\n",
       "      <td>384.91</td>\n",
       "    </tr>\n",
       "    <tr>\n",
       "      <th>1</th>\n",
       "      <td>770.84</td>\n",
       "      <td>68.38</td>\n",
       "      <td>0.399</td>\n",
       "      <td>1.00</td>\n",
       "      <td>2.041</td>\n",
       "      <td>4.0</td>\n",
       "      <td>376.11</td>\n",
       "    </tr>\n",
       "    <tr>\n",
       "      <th>2</th>\n",
       "      <td>770.88</td>\n",
       "      <td>65.32</td>\n",
       "      <td>0.358</td>\n",
       "      <td>1.16</td>\n",
       "      <td>2.192</td>\n",
       "      <td>4.0</td>\n",
       "      <td>366.95</td>\n",
       "    </tr>\n",
       "    <tr>\n",
       "      <th>3</th>\n",
       "      <td>770.92</td>\n",
       "      <td>65.47</td>\n",
       "      <td>0.333</td>\n",
       "      <td>1.50</td>\n",
       "      <td>2.323</td>\n",
       "      <td>4.0</td>\n",
       "      <td>358.01</td>\n",
       "    </tr>\n",
       "    <tr>\n",
       "      <th>4</th>\n",
       "      <td>770.96</td>\n",
       "      <td>66.36</td>\n",
       "      <td>0.313</td>\n",
       "      <td>1.92</td>\n",
       "      <td>2.367</td>\n",
       "      <td>4.0</td>\n",
       "      <td>349.87</td>\n",
       "    </tr>\n",
       "    <tr>\n",
       "      <th>5</th>\n",
       "      <td>771.00</td>\n",
       "      <td>65.03</td>\n",
       "      <td>0.298</td>\n",
       "      <td>2.13</td>\n",
       "      <td>2.359</td>\n",
       "      <td>4.0</td>\n",
       "      <td>342.99</td>\n",
       "    </tr>\n",
       "    <tr>\n",
       "      <th>6</th>\n",
       "      <td>771.04</td>\n",
       "      <td>66.45</td>\n",
       "      <td>0.293</td>\n",
       "      <td>2.20</td>\n",
       "      <td>2.338</td>\n",
       "      <td>4.0</td>\n",
       "      <td>337.69</td>\n",
       "    </tr>\n",
       "    <tr>\n",
       "      <th>7</th>\n",
       "      <td>771.08</td>\n",
       "      <td>68.83</td>\n",
       "      <td>0.298</td>\n",
       "      <td>2.33</td>\n",
       "      <td>2.314</td>\n",
       "      <td>4.0</td>\n",
       "      <td>334.15</td>\n",
       "    </tr>\n",
       "    <tr>\n",
       "      <th>8</th>\n",
       "      <td>771.12</td>\n",
       "      <td>67.63</td>\n",
       "      <td>0.295</td>\n",
       "      <td>2.38</td>\n",
       "      <td>2.310</td>\n",
       "      <td>4.0</td>\n",
       "      <td>332.33</td>\n",
       "    </tr>\n",
       "    <tr>\n",
       "      <th>9</th>\n",
       "      <td>771.16</td>\n",
       "      <td>67.57</td>\n",
       "      <td>0.296</td>\n",
       "      <td>2.29</td>\n",
       "      <td>2.321</td>\n",
       "      <td>4.0</td>\n",
       "      <td>331.98</td>\n",
       "    </tr>\n",
       "  </tbody>\n",
       "</table>\n",
       "</div>"
      ],
      "text/plain": [
       "    DEPTH     GR   NPHI    PE    DEN  LITHOLOGY      AC\n",
       "0  770.80  68.87  0.430  0.99  1.916        7.0  384.91\n",
       "1  770.84  68.38  0.399  1.00  2.041        4.0  376.11\n",
       "2  770.88  65.32  0.358  1.16  2.192        4.0  366.95\n",
       "3  770.92  65.47  0.333  1.50  2.323        4.0  358.01\n",
       "4  770.96  66.36  0.313  1.92  2.367        4.0  349.87\n",
       "5  771.00  65.03  0.298  2.13  2.359        4.0  342.99\n",
       "6  771.04  66.45  0.293  2.20  2.338        4.0  337.69\n",
       "7  771.08  68.83  0.298  2.33  2.314        4.0  334.15\n",
       "8  771.12  67.63  0.295  2.38  2.310        4.0  332.33\n",
       "9  771.16  67.57  0.296  2.29  2.321        4.0  331.98"
      ]
     },
     "execution_count": 9,
     "metadata": {},
     "output_type": "execute_result"
    }
   ],
   "source": [
    "data = np.loadtxt('./data/100163203803W400_LOG.las', skiprows=53)\n",
    "\n",
    "data = pd.DataFrame(data, columns=['DEPTH', 'GR', 'NPHI', 'PE', 'DEN', 'LITHOLOGY', 'AC'])\n",
    "\n",
    "#data_scaled = normalize(data)\n",
    "#data_scaled = pd.DataFrame(data_scaled, columns=mnemonic)\n",
    "\n",
    "data.head(10)"
   ]
  },
  {
   "cell_type": "code",
   "execution_count": 39,
   "id": "b2ca01e6",
   "metadata": {},
   "outputs": [
    {
     "name": "stdout",
     "output_type": "stream",
     "text": [
      "<class 'numpy.float64'>\n"
     ]
    },
    {
     "name": "stderr",
     "output_type": "stream",
     "text": [
      "/var/folders/4q/2_vnm84j6hl9mgc_6srxd8_40000gn/T/ipykernel_29625/2609248594.py:2: SettingWithCopyWarning: \n",
      "A value is trying to be set on a copy of a slice from a DataFrame\n",
      "\n",
      "See the caveats in the documentation: https://pandas.pydata.org/pandas-docs/stable/user_guide/indexing.html#returning-a-view-versus-a-copy\n",
      "  X.drop('NPHI', inplace=True, axis=1)\n",
      "/var/folders/4q/2_vnm84j6hl9mgc_6srxd8_40000gn/T/ipykernel_29625/2609248594.py:3: SettingWithCopyWarning: \n",
      "A value is trying to be set on a copy of a slice from a DataFrame\n",
      "\n",
      "See the caveats in the documentation: https://pandas.pydata.org/pandas-docs/stable/user_guide/indexing.html#returning-a-view-versus-a-copy\n",
      "  X.drop('LITHOLOGY', inplace=True, axis=1)\n"
     ]
    },
    {
     "data": {
      "text/plain": [
       "0    0.0\n",
       "1    1.0\n",
       "2    1.0\n",
       "3    1.0\n",
       "4    1.0\n",
       "5    1.0\n",
       "6    1.0\n",
       "7    1.0\n",
       "8    1.0\n",
       "9    1.0\n",
       "Name: LITHOLOGY, dtype: float64"
      ]
     },
     "execution_count": 39,
     "metadata": {},
     "output_type": "execute_result"
    }
   ],
   "source": [
    "X = data.iloc[:,1:7]\n",
    "X.drop('NPHI', inplace=True, axis=1)\n",
    "X.drop('LITHOLOGY', inplace=True, axis=1)\n",
    "X.head(10)\n",
    "\n",
    "Y = data.iloc[:, 5]\n",
    "Y[Y == 3] = 0\n",
    "Y[Y == 4] = 1\n",
    "Y[Y == 6] = 2\n",
    "Y[Y == 7] = 3\n",
    "Y[Y == 8] = 4\n",
    "print(type(Y[0]))\n",
    "Y.head(10)"
   ]
  },
  {
   "cell_type": "code",
   "execution_count": 41,
   "id": "1ff0057a",
   "metadata": {},
   "outputs": [
    {
     "name": "stdout",
     "output_type": "stream",
     "text": [
      "XGBClassifier(base_score=None, booster=None, callbacks=None,\n",
      "              colsample_bylevel=None, colsample_bynode=None,\n",
      "              colsample_bytree=None, early_stopping_rounds=None,\n",
      "              enable_categorical=False, eval_metric=None, feature_types=None,\n",
      "              gamma=None, gpu_id=None, grow_policy=None, importance_type=None,\n",
      "              interaction_constraints=None, learning_rate=None, max_bin=None,\n",
      "              max_cat_threshold=None, max_cat_to_onehot=None,\n",
      "              max_delta_step=None, max_depth=None, max_leaves=None,\n",
      "              min_child_weight=None, missing=nan, monotone_constraints=None,\n",
      "              n_estimators=100, n_jobs=None, num_parallel_tree=None,\n",
      "              objective='multi:softprob', predictor=None, ...)\n"
     ]
    }
   ],
   "source": [
    "X_train, X_test, Y_train, Y_test = train_test_split(X, Y, test_size=0.33, random_state=42) \n",
    "model = XGBClassifier()\n",
    "model.fit(X_train, Y_train)\n",
    "print(model)"
   ]
  },
  {
   "cell_type": "code",
   "execution_count": 44,
   "id": "8ec49902",
   "metadata": {},
   "outputs": [],
   "source": [
    "y_pred = model.predict(X_test)\n",
    "predictions = [round(value) for value in y_pred]"
   ]
  },
  {
   "cell_type": "code",
   "execution_count": 54,
   "id": "95e1cdf7",
   "metadata": {},
   "outputs": [
    {
     "name": "stdout",
     "output_type": "stream",
     "text": [
      "Accuracy: 99.66%\n"
     ]
    }
   ],
   "source": [
    "# evaluate predictions\n",
    "accuracy = accuracy_score(Y_test, predictions)\n",
    "print(\"Accuracy: %.2f%%\" % (accuracy * 100.0))"
   ]
  },
  {
   "cell_type": "code",
   "execution_count": 56,
   "id": "25622087",
   "metadata": {},
   "outputs": [
    {
     "name": "stdout",
     "output_type": "stream",
     "text": [
      "['DEPTH', 'GR', 'NPHI', 'DEN', 'PEF', 'LITHOLOGY FACIES_XUEPING', 'AC']\n"
     ]
    }
   ],
   "source": [
    "las = lasio.read(\"./data/102060503903W400_log.las\")\n",
    "mnemonic = las.keys()\n",
    "print(mnemonic)"
   ]
  },
  {
   "cell_type": "code",
   "execution_count": 59,
   "id": "794c5e85",
   "metadata": {},
   "outputs": [
    {
     "data": {
      "text/html": [
       "<div>\n",
       "<style scoped>\n",
       "    .dataframe tbody tr th:only-of-type {\n",
       "        vertical-align: middle;\n",
       "    }\n",
       "\n",
       "    .dataframe tbody tr th {\n",
       "        vertical-align: top;\n",
       "    }\n",
       "\n",
       "    .dataframe thead th {\n",
       "        text-align: right;\n",
       "    }\n",
       "</style>\n",
       "<table border=\"1\" class=\"dataframe\">\n",
       "  <thead>\n",
       "    <tr style=\"text-align: right;\">\n",
       "      <th></th>\n",
       "      <th>DEPTH</th>\n",
       "      <th>GR</th>\n",
       "      <th>NPHI</th>\n",
       "      <th>PE</th>\n",
       "      <th>DEN</th>\n",
       "      <th>LITHOLOGY</th>\n",
       "      <th>AC</th>\n",
       "    </tr>\n",
       "  </thead>\n",
       "  <tbody>\n",
       "    <tr>\n",
       "      <th>0</th>\n",
       "      <td>770.80</td>\n",
       "      <td>68.87</td>\n",
       "      <td>0.430</td>\n",
       "      <td>0.99</td>\n",
       "      <td>1.916</td>\n",
       "      <td>7.0</td>\n",
       "      <td>384.91</td>\n",
       "    </tr>\n",
       "    <tr>\n",
       "      <th>1</th>\n",
       "      <td>770.84</td>\n",
       "      <td>68.38</td>\n",
       "      <td>0.399</td>\n",
       "      <td>1.00</td>\n",
       "      <td>2.041</td>\n",
       "      <td>4.0</td>\n",
       "      <td>376.11</td>\n",
       "    </tr>\n",
       "    <tr>\n",
       "      <th>2</th>\n",
       "      <td>770.88</td>\n",
       "      <td>65.32</td>\n",
       "      <td>0.358</td>\n",
       "      <td>1.16</td>\n",
       "      <td>2.192</td>\n",
       "      <td>4.0</td>\n",
       "      <td>366.95</td>\n",
       "    </tr>\n",
       "    <tr>\n",
       "      <th>3</th>\n",
       "      <td>770.92</td>\n",
       "      <td>65.47</td>\n",
       "      <td>0.333</td>\n",
       "      <td>1.50</td>\n",
       "      <td>2.323</td>\n",
       "      <td>4.0</td>\n",
       "      <td>358.01</td>\n",
       "    </tr>\n",
       "    <tr>\n",
       "      <th>4</th>\n",
       "      <td>770.96</td>\n",
       "      <td>66.36</td>\n",
       "      <td>0.313</td>\n",
       "      <td>1.92</td>\n",
       "      <td>2.367</td>\n",
       "      <td>4.0</td>\n",
       "      <td>349.87</td>\n",
       "    </tr>\n",
       "    <tr>\n",
       "      <th>5</th>\n",
       "      <td>771.00</td>\n",
       "      <td>65.03</td>\n",
       "      <td>0.298</td>\n",
       "      <td>2.13</td>\n",
       "      <td>2.359</td>\n",
       "      <td>4.0</td>\n",
       "      <td>342.99</td>\n",
       "    </tr>\n",
       "    <tr>\n",
       "      <th>6</th>\n",
       "      <td>771.04</td>\n",
       "      <td>66.45</td>\n",
       "      <td>0.293</td>\n",
       "      <td>2.20</td>\n",
       "      <td>2.338</td>\n",
       "      <td>4.0</td>\n",
       "      <td>337.69</td>\n",
       "    </tr>\n",
       "    <tr>\n",
       "      <th>7</th>\n",
       "      <td>771.08</td>\n",
       "      <td>68.83</td>\n",
       "      <td>0.298</td>\n",
       "      <td>2.33</td>\n",
       "      <td>2.314</td>\n",
       "      <td>4.0</td>\n",
       "      <td>334.15</td>\n",
       "    </tr>\n",
       "    <tr>\n",
       "      <th>8</th>\n",
       "      <td>771.12</td>\n",
       "      <td>67.63</td>\n",
       "      <td>0.295</td>\n",
       "      <td>2.38</td>\n",
       "      <td>2.310</td>\n",
       "      <td>4.0</td>\n",
       "      <td>332.33</td>\n",
       "    </tr>\n",
       "    <tr>\n",
       "      <th>9</th>\n",
       "      <td>771.16</td>\n",
       "      <td>67.57</td>\n",
       "      <td>0.296</td>\n",
       "      <td>2.29</td>\n",
       "      <td>2.321</td>\n",
       "      <td>4.0</td>\n",
       "      <td>331.98</td>\n",
       "    </tr>\n",
       "  </tbody>\n",
       "</table>\n",
       "</div>"
      ],
      "text/plain": [
       "    DEPTH     GR   NPHI    PE    DEN  LITHOLOGY      AC\n",
       "0  770.80  68.87  0.430  0.99  1.916        7.0  384.91\n",
       "1  770.84  68.38  0.399  1.00  2.041        4.0  376.11\n",
       "2  770.88  65.32  0.358  1.16  2.192        4.0  366.95\n",
       "3  770.92  65.47  0.333  1.50  2.323        4.0  358.01\n",
       "4  770.96  66.36  0.313  1.92  2.367        4.0  349.87\n",
       "5  771.00  65.03  0.298  2.13  2.359        4.0  342.99\n",
       "6  771.04  66.45  0.293  2.20  2.338        4.0  337.69\n",
       "7  771.08  68.83  0.298  2.33  2.314        4.0  334.15\n",
       "8  771.12  67.63  0.295  2.38  2.310        4.0  332.33\n",
       "9  771.16  67.57  0.296  2.29  2.321        4.0  331.98"
      ]
     },
     "execution_count": 59,
     "metadata": {},
     "output_type": "execute_result"
    }
   ],
   "source": [
    "data = np.loadtxt('./data/100163203803W400_LOG.las', skiprows=53)\n",
    "\n",
    "data = pd.DataFrame(data, columns=['DEPTH', 'GR', 'NPHI', 'PE', 'DEN', 'LITHOLOGY', 'AC'])\n",
    "\n",
    "#data_scaled = normalize(data)\n",
    "#data_scaled = pd.DataFrame(data_scaled, columns=mnemonic)\n",
    "\n",
    "data.head(10)"
   ]
  },
  {
   "cell_type": "code",
   "execution_count": 66,
   "id": "04a2cf38",
   "metadata": {},
   "outputs": [
    {
     "name": "stderr",
     "output_type": "stream",
     "text": [
      "/var/folders/4q/2_vnm84j6hl9mgc_6srxd8_40000gn/T/ipykernel_29625/2237517072.py:2: SettingWithCopyWarning: \n",
      "A value is trying to be set on a copy of a slice from a DataFrame\n",
      "\n",
      "See the caveats in the documentation: https://pandas.pydata.org/pandas-docs/stable/user_guide/indexing.html#returning-a-view-versus-a-copy\n",
      "  x_new.drop('NPHI', inplace=True, axis=1)\n",
      "/var/folders/4q/2_vnm84j6hl9mgc_6srxd8_40000gn/T/ipykernel_29625/2237517072.py:3: SettingWithCopyWarning: \n",
      "A value is trying to be set on a copy of a slice from a DataFrame\n",
      "\n",
      "See the caveats in the documentation: https://pandas.pydata.org/pandas-docs/stable/user_guide/indexing.html#returning-a-view-versus-a-copy\n",
      "  x_new.drop('LITHOLOGY', inplace=True, axis=1)\n"
     ]
    },
    {
     "data": {
      "text/plain": [
       "0    3.0\n",
       "1    1.0\n",
       "2    1.0\n",
       "3    1.0\n",
       "4    1.0\n",
       "5    1.0\n",
       "6    1.0\n",
       "7    1.0\n",
       "8    1.0\n",
       "9    1.0\n",
       "Name: LITHOLOGY, dtype: float64"
      ]
     },
     "execution_count": 66,
     "metadata": {},
     "output_type": "execute_result"
    }
   ],
   "source": [
    "x_new = data.iloc[:,1:7]\n",
    "x_new.drop('NPHI', inplace=True, axis=1)\n",
    "x_new.drop('LITHOLOGY', inplace=True, axis=1)\n",
    "x_new.head(10)\n",
    "\n",
    "y_result = data.iloc[:, 5]\n",
    "y_result[y_result == 3] = 0\n",
    "y_result[y_result == 4] = 1\n",
    "y_result[y_result == 6] = 2\n",
    "y_result[y_result == 7] = 3\n",
    "y_result[y_result == 8] = 4\n",
    "y_result.head(10)"
   ]
  },
  {
   "cell_type": "code",
   "execution_count": 77,
   "id": "b8bf6cef",
   "metadata": {},
   "outputs": [
    {
     "name": "stdout",
     "output_type": "stream",
     "text": [
      "Accuracy: 88.11%\n"
     ]
    }
   ],
   "source": [
    "y_pred_test = model.predict(x_new)\n",
    "# evaluate predictions\n",
    "accuracy = accuracy_score(y_result, y_pred_test)\n",
    "print(\"Accuracy: %.2f%%\" % (accuracy * 100.0))"
   ]
  },
  {
   "cell_type": "code",
   "execution_count": 74,
   "id": "1f2d56de",
   "metadata": {},
   "outputs": [],
   "source": [
    "lithology_colors  =   {0:    '#CABAAE', #brown/grey \n",
    "                        1:    '#ebe9e6', #grey\n",
    "                        2:    '#00ff00', #lime green\n",
    "                        3: '#000000', #black\n",
    "                        4:    '#FFFF00', #yellow\n",
    "                      }"
   ]
  },
  {
   "cell_type": "code",
   "execution_count": 75,
   "id": "9bd98958",
   "metadata": {},
   "outputs": [
    {
     "data": {
      "image/png": "[encoded data removed]",
      "text/plain": [
       "<Figure size 1200x600 with 6 Axes>"
      ]
     },
     "metadata": {},
     "output_type": "display_data"
    }
   ],
   "source": [
    "logs = data.columns[1:]\n",
    "rows,cols = 1,6\n",
    "fig,ax = plt.subplots(nrows=rows, ncols=cols, figsize=(12,6), sharey=True)\n",
    "\n",
    "\n",
    "colors = lithology_colors.values()\n",
    "cmap = ListedColormap(colors)\n",
    "plt.suptitle('Well-102060503903W400', size=15)\n",
    "for i in range(cols):\n",
    "    if i < cols-2:\n",
    "        ax[i].plot(data[logs[i]], data.DEPTH, color='blue', lw=0.5)\n",
    "        ax[i].set_title('%s' % logs[i])\n",
    "        ax[i].grid(which='minor', linestyle=':', linewidth='0.5', color='black')\n",
    "        ax[i].set_ylim(max(data.DEPTH), min(data.DEPTH))\n",
    "    if i == cols-2:\n",
    "        F = np.vstack((y_result, y_result)).T\n",
    "        ax[i].imshow(F, aspect='auto', extent=[0,1,max(data.DEPTH), min(data.DEPTH)], cmap = cmap)\n",
    "        ax[i].axes.get_xaxis().set_visible(False)\n",
    "        ax[i].axes.get_yaxis().set_visible(False)\n",
    "        ax[i].set_title('Lithology')\n",
    "    if i == cols-1:\n",
    "        F = np.vstack((y_pred_test, y_pred_test)).T\n",
    "        ax[i].imshow(F, aspect='auto', extent=[0,1,max(data.DEPTH), min(data.DEPTH)], cmap = cmap)\n",
    "        ax[i].axes.get_xaxis().set_visible(False)\n",
    "        ax[i].axes.get_yaxis().set_visible(False)\n",
    "        ax[i].set_title('Lithology')"
   ]
  }
 ],
 "metadata": {
  "kernelspec": {
   "display_name": "Python 3 (ipykernel)",
   "language": "python",
   "name": "python3"
  },
  "language_info": {
   "codemirror_mode": {
    "name": "ipython",
    "version": 3
   },
   "file_extension": ".py",
   "mimetype": "text/x-python",
   "name": "python",
   "nbconvert_exporter": "python",
   "pygments_lexer": "ipython3",
   "version": "3.11.1"
  }
 },
 "nbformat": 4,
 "nbformat_minor": 5
}
